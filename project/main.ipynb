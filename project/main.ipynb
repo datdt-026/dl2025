{
 "cells": [
  {
   "cell_type": "code",
   "id": "d2d39efc",
   "metadata": {
    "ExecuteTime": {
     "end_time": "2025-05-31T10:32:30.041561Z",
     "start_time": "2025-05-31T10:32:30.030597Z"
    }
   },
   "source": [
    "import math\n",
    "import random\n",
    "import matplotlib.pyplot as plt"
   ],
   "outputs": [],
   "execution_count": 49
  },
  {
   "cell_type": "code",
   "id": "9f85c533",
   "metadata": {
    "ExecuteTime": {
     "end_time": "2025-05-31T10:32:30.050410Z",
     "start_time": "2025-05-31T10:32:30.046025Z"
    }
   },
   "source": [
    "def read_sign_mnist_csv(filename, max_rows=None):\n",
    "    X = []\n",
    "    y = []\n",
    "    with open(filename, 'r') as f:\n",
    "        header = f.readline()\n",
    "        for idx, line in enumerate(f):\n",
    "            if max_rows and idx >= max_rows:\n",
    "                break\n",
    "            items = line.strip().split(',')\n",
    "            label = int(items[0])\n",
    "            pixels = [int(p)/255.0 for p in items[1:]]  \n",
    "            img = []\n",
    "            for i in range(28):\n",
    "                img.append([pixels[i*28+j] for j in range(28)])\n",
    "            X.append([img])   \n",
    "            y.append(label)\n",
    "    return X, y"
   ],
   "outputs": [],
   "execution_count": 50
  },
  {
   "cell_type": "code",
   "id": "4b3a96e0",
   "metadata": {
    "ExecuteTime": {
     "end_time": "2025-05-31T10:32:30.065170Z",
     "start_time": "2025-05-31T10:32:30.061016Z"
    }
   },
   "source": [
    "def shuffle(X, y):\n",
    "    idx = list(range(len(X)))\n",
    "    random.shuffle(idx)\n",
    "    return [X[i] for i in idx], [y[i] for i in idx]\n",
    "\n",
    "def get_batches(X, y, batch_size):\n",
    "    for i in range(0, len(X), batch_size):\n",
    "        yield X[i:i+batch_size], y[i:i+batch_size]"
   ],
   "outputs": [],
   "execution_count": 51
  },
  {
   "cell_type": "code",
   "id": "dd47e3b9",
   "metadata": {
    "ExecuteTime": {
     "end_time": "2025-05-31T10:32:30.077803Z",
     "start_time": "2025-05-31T10:32:30.073215Z"
    }
   },
   "source": [
    "class Conv2D:\n",
    "    def __init__(self, in_size, kernel_size, filters):\n",
    "        self.kernel_size = kernel_size\n",
    "        self.filters = filters\n",
    "        self.kernels = [[[[\n",
    "            random.uniform(-0.05, 0.05) for _ in range(kernel_size)\n",
    "        ] for _ in range(kernel_size)] for _ in range(1)] for _ in range(filters)]\n",
    "        self.bias = [random.uniform(-0.05, 0.05) for _ in range(filters)]\n",
    "\n",
    "    def forward(self, x):\n",
    "        h = len(x[0])\n",
    "        w = len(x[0][0])\n",
    "        out_size = h - self.kernel_size + 1\n",
    "        out = [[[0 for _ in range(out_size)] for _ in range(out_size)] for _ in range(self.filters)]\n",
    "        for f in range(self.filters):\n",
    "            for i in range(out_size):\n",
    "                for j in range(out_size):\n",
    "                    s = 0\n",
    "                    for ki in range(self.kernel_size):\n",
    "                        for kj in range(self.kernel_size):\n",
    "                            s += x[0][i+ki][j+kj] * self.kernels[f][0][ki][kj]\n",
    "                    out[f][i][j] = s + self.bias[f]\n",
    "        return out"
   ],
   "outputs": [],
   "execution_count": 52
  },
  {
   "cell_type": "code",
   "id": "d90331e5",
   "metadata": {
    "ExecuteTime": {
     "end_time": "2025-05-31T10:32:30.088895Z",
     "start_time": "2025-05-31T10:32:30.085171Z"
    }
   },
   "source": [
    "class MaxPool2D:\n",
    "    def __init__(self, pool_size):\n",
    "        self.pool_size = pool_size\n",
    "\n",
    "    def forward(self, x):\n",
    "        C = len(x)\n",
    "        H = len(x[0])\n",
    "        W = len(x[0][0])\n",
    "        out_H = H // self.pool_size\n",
    "        out_W = W // self.pool_size\n",
    "        out = [[[0 for _ in range(out_W)] for _ in range(out_H)] for _ in range(C)]\n",
    "        for c in range(C):\n",
    "            for i in range(out_H):\n",
    "                for j in range(out_W):\n",
    "                    mx = -math.inf\n",
    "                    for pi in range(self.pool_size):\n",
    "                        for pj in range(self.pool_size):\n",
    "                            mx = max(mx, x[c][i*self.pool_size+pi][j*self.pool_size+pj])\n",
    "                    out[c][i][j] = mx\n",
    "        return out"
   ],
   "outputs": [],
   "execution_count": 53
  },
  {
   "cell_type": "code",
   "id": "de1156a8",
   "metadata": {
    "ExecuteTime": {
     "end_time": "2025-05-31T10:32:30.099138Z",
     "start_time": "2025-05-31T10:32:30.096997Z"
    }
   },
   "source": [
    "class Flatten:\n",
    "    def forward(self, x):\n",
    "        return [v for c in x for row in c for v in row]"
   ],
   "outputs": [],
   "execution_count": 54
  },
  {
   "cell_type": "code",
   "id": "320ef466",
   "metadata": {
    "ExecuteTime": {
     "end_time": "2025-05-31T10:32:30.111861Z",
     "start_time": "2025-05-31T10:32:30.107757Z"
    }
   },
   "source": [
    "class Dense:\n",
    "    def __init__(self, in_features, out_features):\n",
    "        self.in_features = in_features\n",
    "        self.out_features = out_features\n",
    "        self.weights = [[random.uniform(-0.05, 0.05) for _ in range(in_features)] for _ in range(out_features)]\n",
    "        self.bias = [random.uniform(-0.05, 0.05) for _ in range(out_features)]\n",
    "        self.last_input = None\n",
    "\n",
    "    def forward(self, x):\n",
    "        self.last_input = x\n",
    "        return [sum([self.weights[i][j]*x[j] for j in range(self.in_features)]) + self.bias[i] for i in range(self.out_features)]\n",
    "\n",
    "    def backward(self, grad_out, lr):\n",
    "        grad_x = [0 for _ in range(self.in_features)]\n",
    "        for i in range(self.out_features):\n",
    "            for j in range(self.in_features):\n",
    "                grad = grad_out[i]\n",
    "                self.weights[i][j] -= lr * grad * self.last_input[j]\n",
    "                grad_x[j] += grad * self.weights[i][j]\n",
    "            self.bias[i] -= lr * grad_out[i]\n",
    "        return grad_x"
   ],
   "outputs": [],
   "execution_count": 55
  },
  {
   "cell_type": "code",
   "id": "a655c194",
   "metadata": {
    "ExecuteTime": {
     "end_time": "2025-05-31T10:32:30.122348Z",
     "start_time": "2025-05-31T10:32:30.119416Z"
    }
   },
   "source": [
    "def relu(x):\n",
    "    if isinstance(x[0], list):\n",
    "        return [relu(sub) for sub in x]\n",
    "    return [max(0, v) for v in x]\n",
    "\n",
    "def relu_backward(grad_out, last_x):\n",
    "    if isinstance(last_x[0], list):\n",
    "        return [relu_backward(g, x) for g, x in zip(grad_out, last_x)]\n",
    "    return [g if x > 0 else 0 for g, x in zip(grad_out, last_x)]"
   ],
   "outputs": [],
   "execution_count": 56
  },
  {
   "cell_type": "code",
   "id": "153968bd",
   "metadata": {
    "ExecuteTime": {
     "end_time": "2025-05-31T10:32:30.133500Z",
     "start_time": "2025-05-31T10:32:30.130310Z"
    }
   },
   "source": [
    "def softmax(x):\n",
    "    m = max(x)\n",
    "    exps = [math.exp(i-m) for i in x]\n",
    "    sum_exps = sum(exps)\n",
    "    return [e/sum_exps for e in exps]\n",
    "\n",
    "def cross_entropy(pred, label):\n",
    "    eps = 1e-10\n",
    "    return -math.log(pred[label] + eps)\n",
    "\n",
    "def cross_entropy_grad(pred, label):\n",
    "    grad = [p for p in pred]\n",
    "    grad[label] -= 1\n",
    "    return grad"
   ],
   "outputs": [],
   "execution_count": 57
  },
  {
   "cell_type": "code",
   "id": "adfa254c",
   "metadata": {
    "ExecuteTime": {
     "end_time": "2025-05-31T10:32:30.144509Z",
     "start_time": "2025-05-31T10:32:30.142086Z"
    }
   },
   "source": [
    "def get_flatten_size():\n",
    "    size = 28\n",
    "    size = (size - 3 + 1) // 2\n",
    "    size = (size - 3 + 1) // 2\n",
    "    size = (size - 3 + 1) // 2\n",
    "    return size * size * 512"
   ],
   "outputs": [],
   "execution_count": 58
  },
  {
   "cell_type": "code",
   "id": "b3149489",
   "metadata": {
    "ExecuteTime": {
     "end_time": "2025-05-31T10:32:30.155588Z",
     "start_time": "2025-05-31T10:32:30.152173Z"
    }
   },
   "source": [
    "def plot_image(img, label=None, pred=None, idx=None):\n",
    "    plt.imshow(img[0], cmap='gray')\n",
    "    title = \"\"\n",
    "    if label is not None: title += f\"Label: {label} \"\n",
    "    if pred is not None: title += f\"Pred: {pred}\"\n",
    "    if idx is not None: title = f\"#{idx} \" + title\n",
    "    plt.title(title)\n",
    "    plt.axis('off')"
   ],
   "outputs": [],
   "execution_count": 59
  },
  {
   "cell_type": "code",
   "id": "c5a74119",
   "metadata": {
    "ExecuteTime": {
     "end_time": "2025-05-31T10:32:30.179987Z",
     "start_time": "2025-05-31T10:32:30.163755Z"
    }
   },
   "source": [
    "X_train, y_train = read_sign_mnist_csv('sign_mnist_train.csv', max_rows=30)\n",
    "X_test, y_test = read_sign_mnist_csv('sign_mnist_test.csv', max_rows=10)\n",
    "print(\"Train samples:\", len(X_train), \"Test samples:\", len(X_test))"
   ],
   "outputs": [
    {
     "name": "stdout",
     "output_type": "stream",
     "text": [
      "Train samples: 30 Test samples: 10\n"
     ]
    }
   ],
   "execution_count": 60
  },
  {
   "cell_type": "code",
   "id": "a6d25881",
   "metadata": {
    "ExecuteTime": {
     "end_time": "2025-05-31T10:32:30.328981Z",
     "start_time": "2025-05-31T10:32:30.188221Z"
    }
   },
   "source": [
    "plt.figure(figsize=(12, 4))\n",
    "for i in range(6):\n",
    "    plt.subplot(2, 6, i+1)\n",
    "    plot_image(X_train[i], label=y_train[i], idx=i)\n",
    "plt.suptitle(\"Train Images\")\n",
    "plt.show()"
   ],
   "outputs": [
    {
     "data": {
      "text/plain": [
       "<Figure size 1200x400 with 6 Axes>"
      ],
      "image/png": "[encoded data removed]"
     },
     "metadata": {},
     "output_type": "display_data"
    }
   ],
   "execution_count": 61
  },
  {
   "cell_type": "code",
   "id": "21bdccd9",
   "metadata": {
    "ExecuteTime": {
     "end_time": "2025-05-31T10:32:30.344028Z",
     "start_time": "2025-05-31T10:32:30.341086Z"
    }
   },
   "source": [
    "img_size = 28\n",
    "num_classes = 25\n",
    "epochs = 3\n",
    "batch_size = 8\n",
    "lr = 0.00005"
   ],
   "outputs": [],
   "execution_count": 62
  },
  {
   "cell_type": "code",
   "id": "de98e0dd",
   "metadata": {
    "ExecuteTime": {
     "end_time": "2025-05-31T10:32:31.494677Z",
     "start_time": "2025-05-31T10:32:30.355569Z"
    }
   },
   "source": [
    "conv1 = Conv2D(img_size, 3, 32)\n",
    "pool1 = MaxPool2D(2)\n",
    "conv2 = Conv2D(13, 3, 128)\n",
    "pool2 = MaxPool2D(2)\n",
    "conv3 = Conv2D(5, 3, 512)\n",
    "pool3 = MaxPool2D(2)\n",
    "flatten = Flatten()\n",
    "flatten_size = get_flatten_size()\n",
    "print(\"Flatten size:\", flatten_size)\n",
    "\n",
    "dense1 = Dense(flatten_size, 4096)\n",
    "dense2 = Dense(4096, 1024)\n",
    "dense3 = Dense(1024, 256)\n",
    "dense_out = Dense(256, num_classes)"
   ],
   "outputs": [
    {
     "name": "stdout",
     "output_type": "stream",
     "text": [
      "Flatten size: 512\n"
     ]
    }
   ],
   "execution_count": 63
  },
  {
   "cell_type": "code",
   "id": "dd108f92",
   "metadata": {
    "ExecuteTime": {
     "end_time": "2025-05-31T10:35:32.492761Z",
     "start_time": "2025-05-31T10:32:31.502710Z"
    }
   },
   "source": [
    "history_loss, history_acc = [], []\n",
    "for ep in range(epochs):\n",
    "    X_train, y_train = shuffle(X_train, y_train)\n",
    "    total_loss = 0\n",
    "    correct = 0\n",
    "    for Xb, yb in get_batches(X_train, y_train, batch_size):\n",
    "        for xi, yi in zip(Xb, yb):\n",
    "            # Forward through layer\n",
    "            x = conv1.forward(xi)\n",
    "            x = relu(x)\n",
    "            x = pool1.forward(x)\n",
    "            x = conv2.forward(x)\n",
    "            x = relu(x)\n",
    "            x = pool2.forward(x)\n",
    "            x = conv3.forward(x)\n",
    "            x = relu(x)\n",
    "            x = pool3.forward(x)\n",
    "            x = flatten.forward(x)\n",
    "            x1 = dense1.forward(x)\n",
    "            x1_relu = relu(x1)\n",
    "            x2 = dense2.forward(x1_relu)\n",
    "            x2_relu = relu(x2)\n",
    "            x3 = dense3.forward(x2_relu)\n",
    "            x3_relu = relu(x3)\n",
    "            logits = dense_out.forward(x3_relu)\n",
    "            probs = softmax(logits)\n",
    "            loss = cross_entropy(probs, yi)\n",
    "            total_loss += loss\n",
    "            pred = probs.index(max(probs))\n",
    "            if pred == yi:\n",
    "                correct += 1\n",
    "\n",
    "            # Backward each Dense/ReLU layer\n",
    "            grad_logits = cross_entropy_grad(probs, yi)\n",
    "            grad = dense_out.backward(grad_logits, lr)\n",
    "            grad = relu_backward(grad, x3)\n",
    "            grad = dense3.backward(grad, lr)\n",
    "            grad = relu_backward(grad, x2)\n",
    "            grad = dense2.backward(grad, lr)\n",
    "            grad = relu_backward(grad, x1)\n",
    "            grad = dense1.backward(grad, lr)\n",
    "    avg_loss = total_loss / len(X_train)\n",
    "    acc = correct / len(X_train)\n",
    "    history_loss.append(avg_loss)\n",
    "    history_acc.append(acc)\n",
    "    print(f\"Epoch {ep+1}, Loss: {avg_loss:.3f}, Acc: {acc:.3f}\")"
   ],
   "outputs": [
    {
     "name": "stdout",
     "output_type": "stream",
     "text": [
      "Epoch 1, Loss: 3.223, Acc: 0.033\n",
      "Epoch 2, Loss: 3.223, Acc: 0.033\n",
      "Epoch 3, Loss: 3.223, Acc: 0.033\n"
     ]
    }
   ],
   "execution_count": 64
  },
  {
   "cell_type": "code",
   "id": "e273ddab",
   "metadata": {
    "ExecuteTime": {
     "end_time": "2025-05-31T10:35:32.602269Z",
     "start_time": "2025-05-31T10:35:32.516179Z"
    }
   },
   "source": [
    "plt.figure(figsize=(8,4))\n",
    "plt.plot(history_loss, label='Train loss')\n",
    "plt.plot(history_acc, label='Train acc')\n",
    "plt.legend()\n",
    "plt.title(\"Loss and Accuracy over epochs\")\n",
    "plt.xlabel(\"Epoch\")\n",
    "plt.show()"
   ],
   "outputs": [
    {
     "data": {
      "text/plain": [
       "<Figure size 800x400 with 1 Axes>"
      ],
      "image/png": "[encoded data removed]"
     },
     "metadata": {},
     "output_type": "display_data"
    }
   ],
   "execution_count": 65
  },
  {
   "cell_type": "code",
   "id": "b0b6e002",
   "metadata": {
    "ExecuteTime": {
     "end_time": "2025-05-31T10:35:38.959101Z",
     "start_time": "2025-05-31T10:35:32.607942Z"
    }
   },
   "source": [
    "correct_img_idx, wrong_img_idx = [], []\n",
    "preds = []\n",
    "print(\"\\nTest prediction:\")\n",
    "for i in range(len(X_test)):\n",
    "    x = conv1.forward(X_test[i])\n",
    "    x = relu(x)\n",
    "    x = pool1.forward(x)\n",
    "    x = conv2.forward(x)\n",
    "    x = relu(x)\n",
    "    x = pool2.forward(x)\n",
    "    x = conv3.forward(x)\n",
    "    x = relu(x)\n",
    "    x = pool3.forward(x)\n",
    "    x = flatten.forward(x)\n",
    "    x1 = dense1.forward(x)\n",
    "    x1_relu = relu(x1)\n",
    "    x2 = dense2.forward(x1_relu)\n",
    "    x2_relu = relu(x2)\n",
    "    x3 = dense3.forward(x2_relu)\n",
    "    x3_relu = relu(x3)\n",
    "    logits = dense_out.forward(x3_relu)\n",
    "    probs = softmax(logits)\n",
    "    pred = probs.index(max(probs))\n",
    "    preds.append(pred)\n",
    "    print(f\"Sample {i}: Predict: {pred}, Label: {y_test[i]}\")\n",
    "    if pred == y_test[i]:\n",
    "        correct_img_idx.append(i)\n",
    "    else:\n",
    "        wrong_img_idx.append(i)"
   ],
   "outputs": [
    {
     "name": "stdout",
     "output_type": "stream",
     "text": [
      "\n",
      "Test prediction:\n",
      "Sample 0: Predict: 10, Label: 6\n",
      "Sample 1: Predict: 10, Label: 5\n",
      "Sample 2: Predict: 10, Label: 10\n",
      "Sample 3: Predict: 10, Label: 0\n",
      "Sample 4: Predict: 10, Label: 3\n",
      "Sample 5: Predict: 10, Label: 21\n",
      "Sample 6: Predict: 10, Label: 10\n",
      "Sample 7: Predict: 10, Label: 14\n",
      "Sample 8: Predict: 10, Label: 3\n",
      "Sample 9: Predict: 10, Label: 7\n"
     ]
    }
   ],
   "execution_count": 66
  },
  {
   "cell_type": "code",
   "id": "d684bda4",
   "metadata": {
    "ExecuteTime": {
     "end_time": "2025-05-31T10:35:39.023857Z",
     "start_time": "2025-05-31T10:35:38.967425Z"
    }
   },
   "source": [
    "if correct_img_idx:\n",
    "    plt.figure(figsize=(12, 3))\n",
    "    for idx, i in enumerate(correct_img_idx[:6]):\n",
    "        plt.subplot(1, 6, idx+1)\n",
    "        \n",
    "        plot_image(X_test[i], label=y_test[i], pred=preds[i], idx=i)\n",
    "    plt.suptitle(\"Predict TRUE (Test)\")\n",
    "    plt.show()\n"
   ],
   "outputs": [
    {
     "data": {
      "text/plain": [
       "<Figure size 1200x300 with 2 Axes>"
      ],
      "image/png": "[encoded data removed]"
     },
     "metadata": {},
     "output_type": "display_data"
    }
   ],
   "execution_count": 67
  },
  {
   "cell_type": "code",
   "id": "ec2f9d48",
   "metadata": {
    "ExecuteTime": {
     "end_time": "2025-05-31T10:35:39.155891Z",
     "start_time": "2025-05-31T10:35:39.033781Z"
    }
   },
   "source": [
    "if wrong_img_idx:\n",
    "    plt.figure(figsize=(12, 3))\n",
    "    for idx, i in enumerate(wrong_img_idx[:6]):\n",
    "        plt.subplot(1, 6, idx+1)\n",
    "        plot_image(X_test[i], label=y_test[i], pred=preds[i], idx=i)\n",
    "    plt.suptitle(\"Predict FALSE (Test)\")\n",
    "    plt.show()"
   ],
   "outputs": [
    {
     "data": {
      "text/plain": [
       "<Figure size 1200x300 with 6 Axes>"
      ],
      "image/png": "[encoded data removed]"
     },
     "metadata": {},
     "output_type": "display_data"
    }
   ],
   "execution_count": 68
  }
 ],
 "metadata": {
  "kernelspec": {
   "display_name": "Python 3",
   "language": "python",
   "name": "python3"
  },
  "language_info": {
   "codemirror_mode": {
    "name": "ipython",
    "version": 3
   },
   "file_extension": ".py",
   "mimetype": "text/x-python",
   "name": "python",
   "nbconvert_exporter": "python",
   "pygments_lexer": "ipython3",
   "version": "3.11.1"
  }
 },
 "nbformat": 4,
 "nbformat_minor": 5
}
